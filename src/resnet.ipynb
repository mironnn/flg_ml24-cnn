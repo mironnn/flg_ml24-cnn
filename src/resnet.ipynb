{
 "cells": [
  {
   "cell_type": "code",
   "execution_count": 67,
   "metadata": {
    "_cell_guid": "b1076dfc-b9ad-4769-8c92-a6c4dae69d19",
    "_uuid": "8f2839f25d086af736a60e9eeb907d3b93b6e0e5",
    "execution": {
     "iopub.execute_input": "2024-11-21T17:52:39.399118Z",
     "iopub.status.busy": "2024-11-21T17:52:39.398820Z",
     "iopub.status.idle": "2024-11-21T17:52:39.404153Z",
     "shell.execute_reply": "2024-11-21T17:52:39.403057Z",
     "shell.execute_reply.started": "2024-11-21T17:52:39.399089Z"
    },
    "trusted": true
   },
   "outputs": [],
   "source": [
    "# take 10% of images from each class to validation"
   ]
  },
  {
   "cell_type": "code",
   "execution_count": 68,
   "metadata": {
    "execution": {
     "iopub.execute_input": "2024-11-21T17:52:41.779718Z",
     "iopub.status.busy": "2024-11-21T17:52:41.778694Z",
     "iopub.status.idle": "2024-11-21T17:52:41.783510Z",
     "shell.execute_reply": "2024-11-21T17:52:41.782522Z",
     "shell.execute_reply.started": "2024-11-21T17:52:41.779653Z"
    },
    "trusted": true
   },
   "outputs": [],
   "source": [
    "# there are B&W images in data!"
   ]
  },
  {
   "cell_type": "code",
   "execution_count": 69,
   "metadata": {
    "execution": {
     "iopub.execute_input": "2024-11-21T21:50:09.381941Z",
     "iopub.status.busy": "2024-11-21T21:50:09.381538Z",
     "iopub.status.idle": "2024-11-21T21:50:14.691409Z",
     "shell.execute_reply": "2024-11-21T21:50:14.690150Z",
     "shell.execute_reply.started": "2024-11-21T21:50:09.381902Z"
    },
    "trusted": true
   },
   "outputs": [
    {
     "data": {
      "text/plain": [
       "'cuda'"
      ]
     },
     "execution_count": 69,
     "metadata": {},
     "output_type": "execute_result"
    }
   ],
   "source": [
    "import os\n",
    "from datetime import datetime\n",
    "from typing import Tuple\n",
    "from time import monotonic\n",
    "\n",
    "# from torchvision.io import read_image\n",
    "from torchvision import transforms as T\n",
    "from torch.utils.data import DataLoader, Dataset\n",
    "\n",
    "import torch\n",
    "from torch import nn\n",
    "\n",
    "from torch import optim\n",
    "import torch.nn.functional as F\n",
    "from torch.optim.lr_scheduler import StepLR\n",
    "\n",
    "import numpy as np\n",
    "from PIL import Image\n",
    "import matplotlib.pyplot as plt\n",
    "\n",
    "# from tqdm.notebook import tqdm\n",
    "num_cpus = os.cpu_count()\n",
    "half_cpus = num_cpus // 2\n",
    "\n",
    "DEVICE = 'cuda' if torch.cuda.is_available() else 'cpu'\n",
    "DEVICE"
   ]
  },
  {
   "cell_type": "markdown",
   "metadata": {},
   "source": [
    "### Data"
   ]
  },
  {
   "cell_type": "code",
   "execution_count": 70,
   "metadata": {
    "execution": {
     "iopub.execute_input": "2024-11-21T21:50:14.694844Z",
     "iopub.status.busy": "2024-11-21T21:50:14.694148Z",
     "iopub.status.idle": "2024-11-21T21:50:14.710689Z",
     "shell.execute_reply": "2024-11-21T21:50:14.709334Z",
     "shell.execute_reply.started": "2024-11-21T21:50:14.694768Z"
    },
    "trusted": true
   },
   "outputs": [],
   "source": [
    "class TinyImageNetDataset(Dataset):\n",
    "    def __init__(self, \n",
    "                 img_dir: str, \n",
    "                 annotations: list[Tuple[str, str]],\n",
    "                 transform=None,\n",
    "                 augment_transform=None, \n",
    "                 target_transform=None):\n",
    "        self.img_dir = img_dir\n",
    "        self.annotations = annotations\n",
    "        self.transform = transform\n",
    "        self.target_transform = target_transform\n",
    "        self.augment_transform = augment_transform\n",
    "\n",
    "    def __len__(self):\n",
    "        return len(self.annotations)\n",
    "\n",
    "    def __getitem__(self, idx):\n",
    "        file_name, label = self.annotations[idx]\n",
    "        img_path = os.path.join(self.img_dir, label, 'images', file_name)\n",
    "        image = Image.open(img_path).convert('RGB')\n",
    "        \n",
    "        if self.transform:\n",
    "            image = self.transform(image)\n",
    "        if self.target_transform:\n",
    "            label = self.target_transform(label)\n",
    "        return image, label"
   ]
  },
  {
   "cell_type": "code",
   "execution_count": 71,
   "metadata": {},
   "outputs": [
    {
     "data": {
      "text/plain": [
       "True"
      ]
     },
     "execution_count": 71,
     "metadata": {},
     "output_type": "execute_result"
    }
   ],
   "source": [
    "# TEMP. check with data\n",
    "source_folder = '../input/flg-ml-24-cnn/tiny-imagenet-200/train'\n",
    "from pathlib import Path\n",
    "img_dir = Path(source_folder)\n",
    "img_dir.exists()\n",
    "# for c in img_dir.iterdir():\n",
    "    # for f in (c / \"images\").iterdir():\n",
    "        # print(f)\n",
    "        # break\n",
    "    # break\n",
    "\n",
    "# for class_name in img_dir.iterdir():\n",
    "    # print(len(list((class_name / \"images\").iterdir())))\n",
    "\n",
    "\n",
    "# "
   ]
  },
  {
   "cell_type": "code",
   "execution_count": 72,
   "metadata": {
    "execution": {
     "iopub.execute_input": "2024-11-21T21:50:14.712822Z",
     "iopub.status.busy": "2024-11-21T21:50:14.712199Z",
     "iopub.status.idle": "2024-11-21T21:50:15.450144Z",
     "shell.execute_reply": "2024-11-21T21:50:15.448599Z",
     "shell.execute_reply.started": "2024-11-21T21:50:14.712745Z"
    },
    "trusted": true
   },
   "outputs": [],
   "source": [
    "# for debugging - will remove\n",
    "N_CLASSES_TO_USE = 200\n",
    "\n",
    "source_folder = '../input/flg-ml-24-cnn/tiny-imagenet-200/train'\n",
    "\n",
    "train_split = []\n",
    "val_split = []\n",
    "\n",
    "# TODO ? maybe use cross-validation somehow? Looks like model will never train on last 50 images. Or it is okay?\n",
    "class_names = os.listdir(source_folder)\n",
    "for class_name in class_names[:N_CLASSES_TO_USE]:\n",
    "    file_names = os.listdir(f'{source_folder}/{class_name}/images')\n",
    "    file_ids = [int(name.split('.')[0].split('_')[1]) for name in file_names]\n",
    "\n",
    "    train_names = [file_names[i] for i in range(len(file_names)) if file_ids[i] < 450]\n",
    "    val_names = [file_names[i] for i in range(len(file_names)) if file_ids[i] >= 450]\n",
    "    # print(f\"val_names:{val_names}\")\n",
    "\n",
    "    train_split.extend((name, class_name) for name in train_names)\n",
    "    val_split.extend((name, class_name) for name in val_names)"
   ]
  },
  {
   "cell_type": "code",
   "execution_count": 73,
   "metadata": {
    "execution": {
     "iopub.execute_input": "2024-11-21T21:50:15.453462Z",
     "iopub.status.busy": "2024-11-21T21:50:15.453002Z",
     "iopub.status.idle": "2024-11-21T21:50:15.464035Z",
     "shell.execute_reply": "2024-11-21T21:50:15.462903Z",
     "shell.execute_reply.started": "2024-11-21T21:50:15.453415Z"
    },
    "trusted": true
   },
   "outputs": [
    {
     "name": "stdout",
     "output_type": "stream",
     "text": [
      "100000\n"
     ]
    }
   ],
   "source": [
    "print(len(train_split + val_split))\n",
    "# print(train_split[0])\n",
    "# print(len(train_split), len(val_split))"
   ]
  },
  {
   "cell_type": "code",
   "execution_count": 74,
   "metadata": {
    "execution": {
     "iopub.execute_input": "2024-11-21T22:14:55.974099Z",
     "iopub.status.busy": "2024-11-21T22:14:55.973565Z",
     "iopub.status.idle": "2024-11-21T22:14:55.981955Z",
     "shell.execute_reply": "2024-11-21T22:14:55.980482Z",
     "shell.execute_reply.started": "2024-11-21T22:14:55.974057Z"
    },
    "trusted": true
   },
   "outputs": [
    {
     "name": "stdout",
     "output_type": "stream",
     "text": [
      "Mean: tensor([0.4802, 0.4481, 0.3975])\n",
      "Std: tensor([0.2296, 0.2263, 0.2255])\n"
     ]
    }
   ],
   "source": [
    "# TODO ? why and what we are doing by T.Normalize\n",
    "# Normalization values for mean and std based on data\n",
    "from xml.dom.expatbuilder import theDOMImplementation\n",
    "\n",
    "\n",
    "temp_dataset = TinyImageNetDataset(source_folder, train_split + val_split, transform=T.ToTensor())\n",
    "temp_dataloader = DataLoader(temp_dataset, batch_size=128, shuffle=False, num_workers=half_cpus)\n",
    "mean = torch.zeros(3).to(DEVICE)\n",
    "std = torch.zeros(3).to(DEVICE)\n",
    "n_samples = 0\n",
    "\n",
    "# Iterate through the dataset\n",
    "for images, _ in temp_dataloader:\n",
    "    images = images.to(DEVICE)\n",
    "    # Reshape images to (batch_size, 3, height, width)\n",
    "    images = images.view(images.size(0), images.size(1), -1)\n",
    "    n_samples += images.size(0)\n",
    "    \n",
    "    # Sum up the pixel values for each channel\n",
    "    mean += images.mean(2).sum(0)\n",
    "    std += images.std(2).sum(0)\n",
    "\n",
    "# Calculate the mean and standard deviation\n",
    "mean /= n_samples\n",
    "std /= n_samples\n",
    "\n",
    "mean = mean.cpu()\n",
    "std = std.cpu()\n",
    "\n",
    "print(f'Mean: {mean}')\n",
    "print(f'Std: {std}')\n",
    "\n",
    "train_img_transform = T.Compose([\n",
    "    T.ToTensor(),\n",
    "    T.RandomRotation([-30, 30]),\n",
    "    T.RandomHorizontalFlip(),\n",
    "    T.Normalize((0.485, 0.456, 0.406), (0.229, 0.224, 0.225))\n",
    "    # T.Normalize(mean, std)\n",
    "])\n",
    "augment_transform = T.Compose([\n",
    "    T.RandomHorizontalFlip(p=1.0)  # Always flip the image\n",
    "])\n",
    "\n",
    "val_img_transform = T.Compose([\n",
    "    T.ToTensor(),\n",
    "    T.Normalize((0.485, 0.456, 0.406), (0.229, 0.224, 0.225))\n",
    "    # T.Normalize(mean, std)\n",
    "])\n",
    "\n",
    "# TODO ? why do we need dict with IDs and back\n",
    "class_name_to_id_dict = {name: i for i, name in enumerate(class_names)}\n",
    "class_id_to_name_dict = {i: name for name, i in class_name_to_id_dict.items()}\n",
    "\n",
    "label_to_id_transform = lambda name: class_name_to_id_dict[name]"
   ]
  },
  {
   "cell_type": "code",
   "execution_count": 75,
   "metadata": {
    "execution": {
     "iopub.execute_input": "2024-11-21T21:50:15.479702Z",
     "iopub.status.busy": "2024-11-21T21:50:15.479142Z",
     "iopub.status.idle": "2024-11-21T21:50:15.499821Z",
     "shell.execute_reply": "2024-11-21T21:50:15.498496Z",
     "shell.execute_reply.started": "2024-11-21T21:50:15.479650Z"
    },
    "trusted": true
   },
   "outputs": [],
   "source": [
    "train_dataset = TinyImageNetDataset(source_folder,\n",
    "                                    train_split,\n",
    "                                    transform=train_img_transform,\n",
    "                                    target_transform=label_to_id_transform,\n",
    "                                    augment_transform=augment_transform\n",
    "                                    )\n",
    "\n",
    "train_dataloader = DataLoader(train_dataset, batch_size=128, shuffle=True, num_workers=half_cpus)"
   ]
  },
  {
   "cell_type": "code",
   "execution_count": 76,
   "metadata": {
    "execution": {
     "iopub.execute_input": "2024-11-21T21:50:15.516957Z",
     "iopub.status.busy": "2024-11-21T21:50:15.516498Z",
     "iopub.status.idle": "2024-11-21T21:50:15.522965Z",
     "shell.execute_reply": "2024-11-21T21:50:15.521619Z",
     "shell.execute_reply.started": "2024-11-21T21:50:15.516920Z"
    },
    "trusted": true
   },
   "outputs": [],
   "source": [
    "# TODO ? do we need also to shuffle the val dataset?\n",
    "val_dataset = TinyImageNetDataset(source_folder,\n",
    "                                  val_split,\n",
    "                                  transform=val_img_transform,\n",
    "                                  target_transform=label_to_id_transform\n",
    "                                    )\n",
    "\n",
    "val_dataloader = DataLoader(val_dataset, batch_size=128, shuffle=True, num_workers=half_cpus)"
   ]
  },
  {
   "cell_type": "code",
   "execution_count": 77,
   "metadata": {
    "execution": {
     "iopub.execute_input": "2024-11-21T21:50:16.303021Z",
     "iopub.status.busy": "2024-11-21T21:50:16.302607Z",
     "iopub.status.idle": "2024-11-21T21:50:17.860867Z",
     "shell.execute_reply": "2024-11-21T21:50:17.859590Z",
     "shell.execute_reply.started": "2024-11-21T21:50:16.302986Z"
    },
    "trusted": true
   },
   "outputs": [
    {
     "data": {
      "text/plain": [
       "(torch.Size([128, 3, 64, 64]), torch.Size([128]))"
      ]
     },
     "execution_count": 77,
     "metadata": {},
     "output_type": "execute_result"
    }
   ],
   "source": [
    "# TODO ? what is Y here? why it is 128 values. It should be class value, no?\n",
    "X, Y = next(iter(train_dataloader))\n",
    "X.shape, Y.shape"
   ]
  },
  {
   "cell_type": "markdown",
   "metadata": {},
   "source": [
    "---"
   ]
  },
  {
   "cell_type": "markdown",
   "metadata": {},
   "source": [
    "### Model"
   ]
  },
  {
   "cell_type": "code",
   "execution_count": 78,
   "metadata": {
    "execution": {
     "iopub.execute_input": "2024-11-21T21:50:18.202522Z",
     "iopub.status.busy": "2024-11-21T21:50:18.202020Z",
     "iopub.status.idle": "2024-11-21T21:50:18.210272Z",
     "shell.execute_reply": "2024-11-21T21:50:18.208400Z",
     "shell.execute_reply.started": "2024-11-21T21:50:18.202481Z"
    },
    "trusted": true
   },
   "outputs": [],
   "source": [
    "# TODO ? just fun, why 42?\n",
    "def set_seed(seed: int = 42) -> None:\n",
    "    # np.random.seed(seed)\n",
    "    torch.manual_seed(seed)\n",
    "    torch.cuda.manual_seed(seed)\n",
    "    # When running on the CuDNN backend, two further options must be set\n",
    "    torch.backends.cudnn.deterministic = True\n",
    "    torch.backends.cudnn.benchmark = False\n",
    "    # Set a fixed value for the hash seed\n",
    "    os.environ[\"PYTHONHASHSEED\"] = str(seed)\n",
    "    print(f\"Random seed set as {seed}\")\n",
    "\n",
    "def get_number_of_trainable_params(model: nn.Module) -> int:\n",
    "    return sum(p.numel() for p in model.parameters() if p.requires_grad)"
   ]
  },
  {
   "cell_type": "code",
   "execution_count": 79,
   "metadata": {
    "execution": {
     "iopub.execute_input": "2024-11-21T21:50:19.230097Z",
     "iopub.status.busy": "2024-11-21T21:50:19.229154Z",
     "iopub.status.idle": "2024-11-21T21:50:19.241017Z",
     "shell.execute_reply": "2024-11-21T21:50:19.239663Z",
     "shell.execute_reply.started": "2024-11-21T21:50:19.230046Z"
    },
    "trusted": true
   },
   "outputs": [],
   "source": [
    "class FcBlock(nn.Module):\n",
    "    def __init__(self, in_shape: int,\n",
    "                 out_shape: int,\n",
    "                 do_batchnorm: bool = True,\n",
    "                 activation: nn.Module = None):\n",
    "        super().__init__()\n",
    "        layers = []\n",
    "\n",
    "        layers.append(nn.Linear(in_shape, out_shape, bias=not do_batchnorm))\n",
    "\n",
    "        if activation is not None:\n",
    "            layers.append(activation)\n",
    "\n",
    "        if do_batchnorm:\n",
    "            layers.append(nn.BatchNorm1d(out_shape))\n",
    "\n",
    "        self.layers = nn.Sequential(*layers)\n",
    "\n",
    "    def forward(self, x):\n",
    "        return self.layers(x)\n",
    "\n",
    "\n",
    "class ResNetBlock(nn.Module):\n",
    "  def __init__(self, in_channels, out_channels, kernel_size):\n",
    "    super().__init__()\n",
    "\n",
    "    self.main_conv_layer = nn.Sequential(\n",
    "        nn.Conv2d(in_channels,\n",
    "                  out_channels,\n",
    "                  kernel_size=kernel_size,\n",
    "                  padding=kernel_size // 2,\n",
    "                  bias=False),\n",
    "        nn.BatchNorm2d(out_channels),\n",
    "        nn.ReLU(),\n",
    "        \n",
    "        nn.Conv2d(out_channels,\n",
    "                  out_channels,\n",
    "                  kernel_size=kernel_size,\n",
    "                  padding=kernel_size // 2,\n",
    "                  bias=False),\n",
    "        nn.BatchNorm2d(out_channels),\n",
    "        # nn.ReLU(),\n",
    "        \n",
    "        # nn.Conv2d(out_channels,\n",
    "        #           out_channels,\n",
    "        #           kernel_size=kernel_size,\n",
    "        #           padding=kernel_size // 2,\n",
    "        #           bias=False),\n",
    "        # nn.BatchNorm2d(out_channels),\n",
    "    )\n",
    "\n",
    "    if in_channels != out_channels:\n",
    "        self.identity_conv_layer = nn.Sequential(\n",
    "            nn.Conv2d(in_channels,\n",
    "                      out_channels,\n",
    "                      kernel_size=1,\n",
    "                      padding=0,\n",
    "                      bias=False),\n",
    "            nn.BatchNorm2d(out_channels)\n",
    "        )\n",
    "    else:\n",
    "        self.identity_conv_layer = None\n",
    "\n",
    "    self.relu = nn.ReLU()\n",
    "    self.pool = nn.MaxPool2d(2, 2)\n",
    "    \n",
    "  def forward(self, x):\n",
    "    y = self.main_conv_layer(x)\n",
    "    if self.identity_conv_layer is not None:\n",
    "        x = self.identity_conv_layer(x)\n",
    "    \n",
    "    y += x\n",
    "    y = self.relu(y)\n",
    "    y = self.pool(y)\n",
    "    return y"
   ]
  },
  {
   "cell_type": "code",
   "execution_count": 80,
   "metadata": {
    "execution": {
     "iopub.execute_input": "2024-11-21T21:50:20.284806Z",
     "iopub.status.busy": "2024-11-21T21:50:20.284269Z",
     "iopub.status.idle": "2024-11-21T21:50:20.290579Z",
     "shell.execute_reply": "2024-11-21T21:50:20.289061Z",
     "shell.execute_reply.started": "2024-11-21T21:50:20.284742Z"
    },
    "trusted": true
   },
   "outputs": [],
   "source": [
    "# 3x64x64 -> (conv1) -> 32x32x32 -> (conv2) -> 64x16x16 -> (conv3) -> 128x8x8 -> (conv4) -> 64x4x4=1024"
   ]
  },
  {
   "cell_type": "code",
   "execution_count": 81,
   "metadata": {
    "execution": {
     "iopub.execute_input": "2024-11-21T21:50:22.016697Z",
     "iopub.status.busy": "2024-11-21T21:50:22.016208Z",
     "iopub.status.idle": "2024-11-21T21:50:22.802230Z",
     "shell.execute_reply": "2024-11-21T21:50:22.801019Z",
     "shell.execute_reply.started": "2024-11-21T21:50:22.016653Z"
    },
    "trusted": true
   },
   "outputs": [],
   "source": [
    "class ResNetModel(nn.Module):\n",
    "    def __init__(self):\n",
    "        super().__init__()\n",
    "        self.conv1 = ResNetBlock(3, 16, kernel_size=3)\n",
    "        self.conv2 = ResNetBlock(16, 32, kernel_size=3)\n",
    "        self.conv3 = ResNetBlock(32, 64, kernel_size=3)\n",
    "        self.conv4 = ResNetBlock(64, 64, kernel_size=3)\n",
    "\n",
    "        self.drop1 = nn.Dropout(p=0.2)\n",
    "        self.fc1 = FcBlock(64 * 4 * 4, 512, do_batchnorm=True, activation=nn.ReLU())\n",
    "\n",
    "        self.drop2 = nn.Dropout(p=0.1)\n",
    "        self.fc2 = FcBlock(512, 200, do_batchnorm=True)\n",
    "\n",
    "    def forward(self, x):\n",
    "        x = self.conv1(x)\n",
    "        x = self.conv2(x)\n",
    "        x = self.conv3(x)\n",
    "        x = self.conv4(x)\n",
    "\n",
    "        x = torch.flatten(x, 1)\n",
    "\n",
    "        x = self.drop1(x)\n",
    "        x = self.fc1(x)\n",
    "\n",
    "        x = self.drop2(x)\n",
    "        x = self.fc2(x)\n",
    "        return x"
   ]
  },
  {
   "cell_type": "markdown",
   "metadata": {},
   "source": [
    "---"
   ]
  },
  {
   "cell_type": "markdown",
   "metadata": {},
   "source": [
    "### Train"
   ]
  },
  {
   "cell_type": "code",
   "execution_count": 82,
   "metadata": {
    "execution": {
     "iopub.execute_input": "2024-11-21T21:50:25.254626Z",
     "iopub.status.busy": "2024-11-21T21:50:25.254146Z",
     "iopub.status.idle": "2024-11-21T21:50:25.262297Z",
     "shell.execute_reply": "2024-11-21T21:50:25.261099Z",
     "shell.execute_reply.started": "2024-11-21T21:50:25.254586Z"
    },
    "trusted": true
   },
   "outputs": [],
   "source": [
    "# DEVICE = 'cuda' if torch.cuda.is_available() else 'cpu'\n",
    "# DEVICE"
   ]
  },
  {
   "cell_type": "code",
   "execution_count": 83,
   "metadata": {
    "execution": {
     "iopub.execute_input": "2024-11-21T21:50:26.368950Z",
     "iopub.status.busy": "2024-11-21T21:50:26.368422Z",
     "iopub.status.idle": "2024-11-21T21:50:26.400967Z",
     "shell.execute_reply": "2024-11-21T21:50:26.399679Z",
     "shell.execute_reply.started": "2024-11-21T21:50:26.368906Z"
    },
    "trusted": true
   },
   "outputs": [
    {
     "name": "stdout",
     "output_type": "stream",
     "text": [
      "Random seed set as 123\n",
      "777232\n",
      "conv1.main_conv_layer.0.weight 432\n",
      "conv1.main_conv_layer.1.weight 16\n",
      "conv1.main_conv_layer.1.bias 16\n",
      "conv1.main_conv_layer.3.weight 2304\n",
      "conv1.main_conv_layer.4.weight 16\n",
      "conv1.main_conv_layer.4.bias 16\n",
      "conv1.identity_conv_layer.0.weight 48\n",
      "conv1.identity_conv_layer.1.weight 16\n",
      "conv1.identity_conv_layer.1.bias 16\n",
      "conv2.main_conv_layer.0.weight 4608\n",
      "conv2.main_conv_layer.1.weight 32\n",
      "conv2.main_conv_layer.1.bias 32\n",
      "conv2.main_conv_layer.3.weight 9216\n",
      "conv2.main_conv_layer.4.weight 32\n",
      "conv2.main_conv_layer.4.bias 32\n",
      "conv2.identity_conv_layer.0.weight 512\n",
      "conv2.identity_conv_layer.1.weight 32\n",
      "conv2.identity_conv_layer.1.bias 32\n",
      "conv3.main_conv_layer.0.weight 18432\n",
      "conv3.main_conv_layer.1.weight 64\n",
      "conv3.main_conv_layer.1.bias 64\n",
      "conv3.main_conv_layer.3.weight 36864\n",
      "conv3.main_conv_layer.4.weight 64\n",
      "conv3.main_conv_layer.4.bias 64\n",
      "conv3.identity_conv_layer.0.weight 2048\n",
      "conv3.identity_conv_layer.1.weight 64\n",
      "conv3.identity_conv_layer.1.bias 64\n",
      "conv4.main_conv_layer.0.weight 36864\n",
      "conv4.main_conv_layer.1.weight 64\n",
      "conv4.main_conv_layer.1.bias 64\n",
      "conv4.main_conv_layer.3.weight 36864\n",
      "conv4.main_conv_layer.4.weight 64\n",
      "conv4.main_conv_layer.4.bias 64\n",
      "fc1.layers.0.weight 524288\n",
      "fc1.layers.2.weight 512\n",
      "fc1.layers.2.bias 512\n",
      "fc2.layers.0.weight 102400\n",
      "fc2.layers.1.weight 200\n",
      "fc2.layers.1.bias 200\n"
     ]
    },
    {
     "data": {
      "text/plain": [
       "ResNetModel(\n",
       "  (conv1): ResNetBlock(\n",
       "    (main_conv_layer): Sequential(\n",
       "      (0): Conv2d(3, 16, kernel_size=(3, 3), stride=(1, 1), padding=(1, 1), bias=False)\n",
       "      (1): BatchNorm2d(16, eps=1e-05, momentum=0.1, affine=True, track_running_stats=True)\n",
       "      (2): ReLU()\n",
       "      (3): Conv2d(16, 16, kernel_size=(3, 3), stride=(1, 1), padding=(1, 1), bias=False)\n",
       "      (4): BatchNorm2d(16, eps=1e-05, momentum=0.1, affine=True, track_running_stats=True)\n",
       "    )\n",
       "    (identity_conv_layer): Sequential(\n",
       "      (0): Conv2d(3, 16, kernel_size=(1, 1), stride=(1, 1), bias=False)\n",
       "      (1): BatchNorm2d(16, eps=1e-05, momentum=0.1, affine=True, track_running_stats=True)\n",
       "    )\n",
       "    (relu): ReLU()\n",
       "    (pool): MaxPool2d(kernel_size=2, stride=2, padding=0, dilation=1, ceil_mode=False)\n",
       "  )\n",
       "  (conv2): ResNetBlock(\n",
       "    (main_conv_layer): Sequential(\n",
       "      (0): Conv2d(16, 32, kernel_size=(3, 3), stride=(1, 1), padding=(1, 1), bias=False)\n",
       "      (1): BatchNorm2d(32, eps=1e-05, momentum=0.1, affine=True, track_running_stats=True)\n",
       "      (2): ReLU()\n",
       "      (3): Conv2d(32, 32, kernel_size=(3, 3), stride=(1, 1), padding=(1, 1), bias=False)\n",
       "      (4): BatchNorm2d(32, eps=1e-05, momentum=0.1, affine=True, track_running_stats=True)\n",
       "    )\n",
       "    (identity_conv_layer): Sequential(\n",
       "      (0): Conv2d(16, 32, kernel_size=(1, 1), stride=(1, 1), bias=False)\n",
       "      (1): BatchNorm2d(32, eps=1e-05, momentum=0.1, affine=True, track_running_stats=True)\n",
       "    )\n",
       "    (relu): ReLU()\n",
       "    (pool): MaxPool2d(kernel_size=2, stride=2, padding=0, dilation=1, ceil_mode=False)\n",
       "  )\n",
       "  (conv3): ResNetBlock(\n",
       "    (main_conv_layer): Sequential(\n",
       "      (0): Conv2d(32, 64, kernel_size=(3, 3), stride=(1, 1), padding=(1, 1), bias=False)\n",
       "      (1): BatchNorm2d(64, eps=1e-05, momentum=0.1, affine=True, track_running_stats=True)\n",
       "      (2): ReLU()\n",
       "      (3): Conv2d(64, 64, kernel_size=(3, 3), stride=(1, 1), padding=(1, 1), bias=False)\n",
       "      (4): BatchNorm2d(64, eps=1e-05, momentum=0.1, affine=True, track_running_stats=True)\n",
       "    )\n",
       "    (identity_conv_layer): Sequential(\n",
       "      (0): Conv2d(32, 64, kernel_size=(1, 1), stride=(1, 1), bias=False)\n",
       "      (1): BatchNorm2d(64, eps=1e-05, momentum=0.1, affine=True, track_running_stats=True)\n",
       "    )\n",
       "    (relu): ReLU()\n",
       "    (pool): MaxPool2d(kernel_size=2, stride=2, padding=0, dilation=1, ceil_mode=False)\n",
       "  )\n",
       "  (conv4): ResNetBlock(\n",
       "    (main_conv_layer): Sequential(\n",
       "      (0): Conv2d(64, 64, kernel_size=(3, 3), stride=(1, 1), padding=(1, 1), bias=False)\n",
       "      (1): BatchNorm2d(64, eps=1e-05, momentum=0.1, affine=True, track_running_stats=True)\n",
       "      (2): ReLU()\n",
       "      (3): Conv2d(64, 64, kernel_size=(3, 3), stride=(1, 1), padding=(1, 1), bias=False)\n",
       "      (4): BatchNorm2d(64, eps=1e-05, momentum=0.1, affine=True, track_running_stats=True)\n",
       "    )\n",
       "    (relu): ReLU()\n",
       "    (pool): MaxPool2d(kernel_size=2, stride=2, padding=0, dilation=1, ceil_mode=False)\n",
       "  )\n",
       "  (drop1): Dropout(p=0.2, inplace=False)\n",
       "  (fc1): FcBlock(\n",
       "    (layers): Sequential(\n",
       "      (0): Linear(in_features=1024, out_features=512, bias=False)\n",
       "      (1): ReLU()\n",
       "      (2): BatchNorm1d(512, eps=1e-05, momentum=0.1, affine=True, track_running_stats=True)\n",
       "    )\n",
       "  )\n",
       "  (drop2): Dropout(p=0.1, inplace=False)\n",
       "  (fc2): FcBlock(\n",
       "    (layers): Sequential(\n",
       "      (0): Linear(in_features=512, out_features=200, bias=False)\n",
       "      (1): BatchNorm1d(200, eps=1e-05, momentum=0.1, affine=True, track_running_stats=True)\n",
       "    )\n",
       "  )\n",
       ")"
      ]
     },
     "execution_count": 83,
     "metadata": {},
     "output_type": "execute_result"
    }
   ],
   "source": [
    "set_seed(123)\n",
    "\n",
    "model = ResNetModel()\n",
    "print(get_number_of_trainable_params(model))\n",
    "\n",
    "for layer in model.named_parameters():\n",
    "    print(layer[0], layer[1].numel())\n",
    "\n",
    "model.to(DEVICE)"
   ]
  },
  {
   "cell_type": "code",
   "execution_count": 84,
   "metadata": {
    "execution": {
     "iopub.execute_input": "2024-11-21T19:02:09.037471Z",
     "iopub.status.busy": "2024-11-21T19:02:09.036585Z",
     "iopub.status.idle": "2024-11-21T19:02:09.043845Z",
     "shell.execute_reply": "2024-11-21T19:02:09.042847Z",
     "shell.execute_reply.started": "2024-11-21T19:02:09.037436Z"
    },
    "trusted": true
   },
   "outputs": [],
   "source": [
    "train_config = {\n",
    "    'n_epochs': 25,\n",
    "    'lr': 0.005,\n",
    "    'batch_size': 512,\n",
    "}\n",
    "\n",
    "optimizer = optim.Adam(model.parameters(), lr=train_config['lr'],)\n",
    "# scheduler = StepLR(optimizer, step_size=2, gamma=0.1)\n",
    "criterion = nn.CrossEntropyLoss()\n",
    "\n",
    "train_dataloader = DataLoader(train_dataset, batch_size=train_config['batch_size'], shuffle=True)\n",
    "val_dataloader = DataLoader(val_dataset, batch_size=train_config['batch_size'], shuffle=False)\n",
    "\n",
    "best_checkpoint_path = '../working/best.pth'"
   ]
  },
  {
   "cell_type": "code",
   "execution_count": 85,
   "metadata": {
    "execution": {
     "iopub.execute_input": "2024-11-21T19:02:09.299370Z",
     "iopub.status.busy": "2024-11-21T19:02:09.298997Z",
     "iopub.status.idle": "2024-11-21T19:02:09.307198Z",
     "shell.execute_reply": "2024-11-21T19:02:09.306222Z",
     "shell.execute_reply.started": "2024-11-21T19:02:09.299336Z"
    },
    "trusted": true
   },
   "outputs": [],
   "source": [
    "def do_train_epoch(model: nn.Module, \n",
    "                   criterion: nn.Module,\n",
    "                   optimizer,\n",
    "                   train_loader: DataLoader, \n",
    "                   verbose: int = -1) -> Tuple[float, float]:\n",
    "    total_steps = len(train_dataloader)\n",
    "    \n",
    "    running_loss, step = 0, 0\n",
    "    n_correct_predictions, total_predictions = 0, 0\n",
    "    for X, Y in train_loader:\n",
    "        X = X.to(DEVICE)\n",
    "        Y = Y.to(DEVICE)\n",
    "        optimizer.zero_grad()\n",
    "    \n",
    "        preds = model(X)\n",
    "        loss = criterion(preds, Y)\n",
    "        loss.backward()\n",
    "        optimizer.step()\n",
    "        # torch.nn.utils.clip_grad_norm_(model.parameters(), max_norm=2.0)\n",
    "    \n",
    "        running_loss += loss.item()\n",
    "        step += 1\n",
    "\n",
    "        if verbose > 0 and step % verbose == 0:\n",
    "            cur_time = datetime.now().strftime(\"%H:%M:%S\")\n",
    "            print(f\"[{cur_time}] Step {step}/{total_steps}: train loss = {round(running_loss / step, 5)}\")\n",
    "\n",
    "        total_predictions += len(Y)\n",
    "\n",
    "        probs = F.softmax(preds, dim=1)\n",
    "        predicted_labels = torch.argmax(probs, dim=1)\n",
    "        n_correct_predictions += (predicted_labels == Y).sum().item()\n",
    "    \n",
    "    avg_loss = round(running_loss / step, 5)\n",
    "    accuracy = round(n_correct_predictions / total_predictions, 5)\n",
    "    \n",
    "    return avg_loss, accuracy"
   ]
  },
  {
   "cell_type": "code",
   "execution_count": 86,
   "metadata": {
    "execution": {
     "iopub.execute_input": "2024-11-21T19:02:09.652114Z",
     "iopub.status.busy": "2024-11-21T19:02:09.651717Z",
     "iopub.status.idle": "2024-11-21T19:02:09.659515Z",
     "shell.execute_reply": "2024-11-21T19:02:09.658417Z",
     "shell.execute_reply.started": "2024-11-21T19:02:09.652084Z"
    },
    "trusted": true
   },
   "outputs": [],
   "source": [
    "def do_val_epoch(model: nn.Module,\n",
    "                 criterion: nn.Module,\n",
    "                 val_loader: DataLoader) -> Tuple[float, float]:\n",
    "    total_steps = len(val_loader)\n",
    "    \n",
    "    running_loss = 0\n",
    "    n_correct_predictions, total_predictions = 0, 0\n",
    "    \n",
    "    with torch.no_grad():\n",
    "        for X, Y in val_loader:\n",
    "            X = X.to(DEVICE)\n",
    "            Y = Y.to(DEVICE)\n",
    "            preds = model(X)\n",
    "            loss = criterion(preds, Y)\n",
    "    \n",
    "            running_loss += loss.item()\n",
    "            total_predictions += len(Y)\n",
    "    \n",
    "            probs = F.softmax(preds, dim=1)\n",
    "            predicted_labels = torch.argmax(probs, dim=1)\n",
    "            n_correct_predictions += (predicted_labels == Y).sum().item()\n",
    "\n",
    "    avg_loss = round(running_loss / total_steps, 5)\n",
    "    accuracy = round(n_correct_predictions / total_predictions, 5)\n",
    "\n",
    "    print(f'VALIDATION LOSS = {avg_loss}, VALIDATION ACCURACY = {accuracy}')\n",
    "    \n",
    "    return avg_loss, accuracy\n",
    "          "
   ]
  },
  {
   "cell_type": "code",
   "execution_count": 87,
   "metadata": {
    "execution": {
     "iopub.execute_input": "2024-11-21T19:02:09.992781Z",
     "iopub.status.busy": "2024-11-21T19:02:09.992376Z",
     "iopub.status.idle": "2024-11-21T19:02:10.001633Z",
     "shell.execute_reply": "2024-11-21T19:02:10.000529Z",
     "shell.execute_reply.started": "2024-11-21T19:02:09.992746Z"
    },
    "trusted": true
   },
   "outputs": [],
   "source": [
    "def plot_history(history: dict):\n",
    "    fig, ax = plt.subplots(1, 2, figsize=(15, 5))\n",
    "    \n",
    "    ax[0].plot(history['train_loss'], marker='o', label='Train Loss')\n",
    "    ax[0].plot(history['test_loss'], marker='o', label='Test Loss')\n",
    "    ax[0].set_title('Loss per epoch')\n",
    "    ax[0].legend()\n",
    "    \n",
    "    ax[1].plot(history['train_accuracy'], marker='o', label='Train Accuracy')\n",
    "    ax[1].plot(history['test_accuracy'], marker='o', label='Test Accuracy')\n",
    "    ax[1].set_title('Accuracy per epoch')\n",
    "    ax[1].legend()\n",
    "    \n",
    "    plt.show()"
   ]
  },
  {
   "cell_type": "code",
   "execution_count": null,
   "metadata": {
    "execution": {
     "iopub.execute_input": "2024-11-21T19:02:10.376501Z",
     "iopub.status.busy": "2024-11-21T19:02:10.376127Z",
     "iopub.status.idle": "2024-11-21T19:03:53.081155Z",
     "shell.execute_reply": "2024-11-21T19:03:53.080113Z",
     "shell.execute_reply.started": "2024-11-21T19:02:10.376466Z"
    },
    "trusted": true
   },
   "outputs": [
    {
     "name": "stdout",
     "output_type": "stream",
     "text": [
      "\n",
      " \t\t ------------------------------ EPOCH: 1 ------------------------------\n"
     ]
    },
    {
     "name": "stdout",
     "output_type": "stream",
     "text": [
      "[04:23:14] Step 20/176: train loss = 5.14155\n",
      "[04:23:23] Step 40/176: train loss = 4.92487\n",
      "[04:23:31] Step 60/176: train loss = 4.78426\n",
      "[04:23:40] Step 80/176: train loss = 4.68876\n",
      "[04:23:48] Step 100/176: train loss = 4.60777\n",
      "[04:23:57] Step 120/176: train loss = 4.53739\n",
      "[04:24:06] Step 140/176: train loss = 4.47424\n",
      "[04:24:14] Step 160/176: train loss = 4.42028\n",
      "VALIDATION LOSS = 3.85418, VALIDATION ACCURACY = 0.1798\n"
     ]
    },
    {
     "data": {
      "image/png": "[encoded data removed]",
      "text/plain": [
       "<Figure size 1500x500 with 2 Axes>"
      ]
     },
     "metadata": {},
     "output_type": "display_data"
    },
    {
     "name": "stdout",
     "output_type": "stream",
     "text": [
      "Saving best model\n",
      "\n",
      " \t\t ------------------------------ EPOCH: 2 ------------------------------\n",
      "[04:24:34] Step 20/176: train loss = 3.84807\n",
      "[04:24:42] Step 40/176: train loss = 3.82722\n",
      "[04:24:51] Step 60/176: train loss = 3.7994\n",
      "[04:24:59] Step 80/176: train loss = 3.78231\n",
      "[04:25:07] Step 100/176: train loss = 3.76826\n",
      "[04:25:16] Step 120/176: train loss = 3.74549\n",
      "[04:25:24] Step 140/176: train loss = 3.72323\n"
     ]
    }
   ],
   "source": [
    "history = {\n",
    "    'train_loss': [],\n",
    "    'train_accuracy': [],\n",
    "    'test_loss': [],\n",
    "    'test_accuracy': [],\n",
    "    \n",
    "}\n",
    "t1 = monotonic()\n",
    "for epoch in range(train_config['n_epochs']):\n",
    "    print('\\n', '\\t\\t', '-' * 30, f\"EPOCH: {epoch + 1}\", '-' * 30)\n",
    "\n",
    "    # Train\n",
    "    model.train()\n",
    "    model.to(DEVICE)\n",
    "    train_avg_loss, train_accuracy = do_train_epoch(model, \n",
    "                                                    criterion, \n",
    "                                                    optimizer, \n",
    "                                                    train_dataloader, \n",
    "                                                    verbose=20)\n",
    "\n",
    "    history['train_loss'].append(train_avg_loss)\n",
    "    history['train_accuracy'].append(train_accuracy)\n",
    "\n",
    "    # Val\n",
    "    model.eval()\n",
    "    val_avg_loss, val_accuracy = do_val_epoch(model, \n",
    "                                              criterion, \n",
    "                                              val_dataloader)\n",
    "    # scheduler.step()\n",
    "    history['test_loss'].append(val_avg_loss)\n",
    "    history['test_accuracy'].append(val_accuracy)\n",
    "\n",
    "    # on_epoch_end events\n",
    "    plot_history(history)\n",
    "    \n",
    "    # model checkpointing\n",
    "    if history['test_loss'][-1] == min(history['test_loss']):\n",
    "        print('Saving best model')\n",
    "        torch.save(model.state_dict(), best_checkpoint_path)\n",
    "    else:\n",
    "        print(\"Validation loss didn't improve\")\n",
    "\n",
    "    # early stopping\n",
    "    if min(history['test_loss'][-2:]) > min(history['test_loss']):\n",
    "        best_epoch = np.argmin(history['test_loss'])\n",
    "        best_test_accuracy = history['test_accuracy'][best_epoch]\n",
    "\n",
    "        print(f'EARLY STOPPING: min test_loss {min(history[\"test_loss\"])}, last 2 epochs min: {min(history[\"test_loss\"][-2:])}')\n",
    "        print(f'Restoring the model at epoch {best_epoch}: test_accuracy = {best_test_accuracy}')\n",
    "\n",
    "        model.load_state_dict(torch.load(best_checkpoint_path, weights_only=True))\n",
    "        print('Model successfully restored')\n",
    "        break\n",
    "    if epoch == 10:\n",
    "        for g in optimizer.param_groups:\n",
    "            g['lr'] = 0.001\n",
    "t2 = monotonic()\n",
    "m, s = divmod(t2 - t1, 60)\n",
    "    # lr_adjustments (todo)\n",
    "\n",
    "\n",
    "# saving the best model to hard storage\n",
    "model_file_name = f'model_epoch_{best_epoch}_test_acc_{best_test_accuracy}.pth'\n",
    "torch.save(model.state_dict(), f'../working/{model_file_name}')\n",
    "\n",
    "print(f'\\n Training time: {m} minutes {round(s, 2)} seconds')\n",
    "print(f'\\n Final model is stored to {model_file_name}')\n",
    "os.remove(best_checkpoint_path)"
   ]
  },
  {
   "cell_type": "markdown",
   "metadata": {},
   "source": []
  },
  {
   "cell_type": "markdown",
   "metadata": {},
   "source": [
    "### Make a prediction and prepare submission file"
   ]
  },
  {
   "cell_type": "code",
   "execution_count": null,
   "metadata": {
    "execution": {
     "iopub.execute_input": "2024-11-21T22:09:41.714009Z",
     "iopub.status.busy": "2024-11-21T22:09:41.713212Z",
     "iopub.status.idle": "2024-11-21T22:09:42.077258Z",
     "shell.execute_reply": "2024-11-21T22:09:42.076160Z",
     "shell.execute_reply.started": "2024-11-21T22:09:41.713937Z"
    },
    "trusted": true
   },
   "outputs": [],
   "source": [
    "import pandas as pd"
   ]
  },
  {
   "cell_type": "code",
   "execution_count": null,
   "metadata": {
    "execution": {
     "iopub.execute_input": "2024-11-21T22:10:38.391693Z",
     "iopub.status.busy": "2024-11-21T22:10:38.391209Z",
     "iopub.status.idle": "2024-11-21T22:10:38.401441Z",
     "shell.execute_reply": "2024-11-21T22:10:38.400145Z",
     "shell.execute_reply.started": "2024-11-21T22:10:38.391650Z"
    },
    "trusted": true
   },
   "outputs": [],
   "source": [
    "class TestDataset(Dataset):\n",
    "    def __init__(self, \n",
    "                 img_dir: str, \n",
    "                 file_names: list[str],\n",
    "                 transform=None):\n",
    "        self.img_dir = img_dir\n",
    "        self.file_names = file_names\n",
    "        self.image_ids = [int(n.split('.')[0].split('_')[1]) for n in file_names]\n",
    "        self.transform = transform\n",
    "\n",
    "    def __len__(self):\n",
    "        return len(self.file_names)\n",
    "\n",
    "    def __getitem__(self, idx):\n",
    "        file_name = self.file_names[idx]\n",
    "        img_path = os.path.join(self.img_dir, file_name)\n",
    "        image = Image.open(img_path).convert('RGB')\n",
    "\n",
    "        img_id = self.image_ids[idx]\n",
    "        \n",
    "        if self.transform:\n",
    "            image = self.transform(image)\n",
    "        return image, img_id"
   ]
  },
  {
   "cell_type": "code",
   "execution_count": null,
   "metadata": {
    "execution": {
     "iopub.execute_input": "2024-11-21T22:10:41.260577Z",
     "iopub.status.busy": "2024-11-21T22:10:41.260045Z",
     "iopub.status.idle": "2024-11-21T22:10:41.277719Z",
     "shell.execute_reply": "2024-11-21T22:10:41.276336Z",
     "shell.execute_reply.started": "2024-11-21T22:10:41.260521Z"
    },
    "trusted": true
   },
   "outputs": [
    {
     "data": {
      "text/plain": [
       "10000"
      ]
     },
     "execution_count": 58,
     "metadata": {},
     "output_type": "execute_result"
    }
   ],
   "source": [
    "test_folder = '../input/flg-ml-24-cnn/tiny-imagenet-200/val'\n",
    "test_image_names = sorted(os.listdir(f'{test_folder}/images'))\n",
    "len(test_image_names)"
   ]
  },
  {
   "cell_type": "code",
   "execution_count": null,
   "metadata": {
    "execution": {
     "iopub.execute_input": "2024-11-21T22:10:41.566867Z",
     "iopub.status.busy": "2024-11-21T22:10:41.566332Z",
     "iopub.status.idle": "2024-11-21T22:10:41.583569Z",
     "shell.execute_reply": "2024-11-21T22:10:41.582317Z",
     "shell.execute_reply.started": "2024-11-21T22:10:41.566814Z"
    },
    "trusted": true
   },
   "outputs": [],
   "source": [
    "test_dataset = TestDataset(f'{test_folder}/images', test_image_names, transform=val_img_transform)\n",
    "test_dataloader = DataLoader(test_dataset, shuffle=False, batch_size=128)"
   ]
  },
  {
   "cell_type": "code",
   "execution_count": null,
   "metadata": {
    "execution": {
     "iopub.execute_input": "2024-11-21T22:12:28.975016Z",
     "iopub.status.busy": "2024-11-21T22:12:28.974394Z",
     "iopub.status.idle": "2024-11-21T22:12:49.045809Z",
     "shell.execute_reply": "2024-11-21T22:12:49.044092Z",
     "shell.execute_reply.started": "2024-11-21T22:12:28.974970Z"
    },
    "trusted": true
   },
   "outputs": [
    {
     "name": "stdout",
     "output_type": "stream",
     "text": [
      "[04:11:35] Step 10/79 done\n",
      "[04:11:35] Step 20/79 done\n",
      "[04:11:36] Step 30/79 done\n",
      "[04:11:36] Step 40/79 done\n",
      "[04:11:37] Step 50/79 done\n",
      "[04:11:37] Step 60/79 done\n",
      "[04:11:37] Step 70/79 done\n"
     ]
    }
   ],
   "source": [
    "model.eval()\n",
    "\n",
    "test_predictions = pd.Series([-1] * len(test_dataset))\n",
    "\n",
    "total_steps = len(test_dataloader)\n",
    "step = 0\n",
    "\n",
    "with torch.no_grad():\n",
    "    for X, img_ids in test_dataloader:\n",
    "        preds = model(X.to(DEVICE)).cpu()\n",
    "        \n",
    "        probs = F.softmax(preds, dim=1)\n",
    "        predicted_labels = torch.argmax(probs, dim=1)\n",
    "\n",
    "        # predicted_labels = torch.tensor([0] * X.shape[0])\n",
    "\n",
    "        test_predictions.loc[img_ids] = predicted_labels.numpy()\n",
    "        step += 1\n",
    "\n",
    "        if step % 10 == 0:\n",
    "            cur_time = datetime.now().strftime(\"%H:%M:%S\")\n",
    "            print(f\"[{cur_time}] Step {step}/{total_steps} done\")"
   ]
  },
  {
   "cell_type": "code",
   "execution_count": null,
   "metadata": {
    "execution": {
     "iopub.execute_input": "2024-11-21T22:13:52.673964Z",
     "iopub.status.busy": "2024-11-21T22:13:52.673431Z",
     "iopub.status.idle": "2024-11-21T22:13:52.688571Z",
     "shell.execute_reply": "2024-11-21T22:13:52.687256Z",
     "shell.execute_reply.started": "2024-11-21T22:13:52.673920Z"
    },
    "trusted": true
   },
   "outputs": [
    {
     "data": {
      "text/html": [
       "<div>\n",
       "<style scoped>\n",
       "    .dataframe tbody tr th:only-of-type {\n",
       "        vertical-align: middle;\n",
       "    }\n",
       "\n",
       "    .dataframe tbody tr th {\n",
       "        vertical-align: top;\n",
       "    }\n",
       "\n",
       "    .dataframe thead th {\n",
       "        text-align: right;\n",
       "    }\n",
       "</style>\n",
       "<table border=\"1\" class=\"dataframe\">\n",
       "  <thead>\n",
       "    <tr style=\"text-align: right;\">\n",
       "      <th></th>\n",
       "      <th>ID</th>\n",
       "      <th>class</th>\n",
       "    </tr>\n",
       "  </thead>\n",
       "  <tbody>\n",
       "    <tr>\n",
       "      <th>0</th>\n",
       "      <td>0</td>\n",
       "      <td>14</td>\n",
       "    </tr>\n",
       "    <tr>\n",
       "      <th>1</th>\n",
       "      <td>1</td>\n",
       "      <td>6</td>\n",
       "    </tr>\n",
       "    <tr>\n",
       "      <th>2</th>\n",
       "      <td>2</td>\n",
       "      <td>16</td>\n",
       "    </tr>\n",
       "    <tr>\n",
       "      <th>3</th>\n",
       "      <td>3</td>\n",
       "      <td>16</td>\n",
       "    </tr>\n",
       "    <tr>\n",
       "      <th>4</th>\n",
       "      <td>4</td>\n",
       "      <td>13</td>\n",
       "    </tr>\n",
       "  </tbody>\n",
       "</table>\n",
       "</div>"
      ],
      "text/plain": [
       "   ID  class\n",
       "0   0     14\n",
       "1   1      6\n",
       "2   2     16\n",
       "3   3     16\n",
       "4   4     13"
      ]
     },
     "execution_count": 61,
     "metadata": {},
     "output_type": "execute_result"
    }
   ],
   "source": [
    "test_predictions_df = (test_predictions\n",
    "                       .reset_index()\n",
    "                       .rename(columns={'index': 'ID', 0: 'class'}))\n",
    "test_predictions_df.head()"
   ]
  },
  {
   "cell_type": "code",
   "execution_count": null,
   "metadata": {
    "execution": {
     "iopub.execute_input": "2024-11-21T22:14:06.563558Z",
     "iopub.status.busy": "2024-11-21T22:14:06.562975Z",
     "iopub.status.idle": "2024-11-21T22:14:06.572752Z",
     "shell.execute_reply": "2024-11-21T22:14:06.571594Z",
     "shell.execute_reply.started": "2024-11-21T22:14:06.563501Z"
    },
    "trusted": true
   },
   "outputs": [
    {
     "data": {
      "text/plain": [
       "np.int64(0)"
      ]
     },
     "execution_count": 62,
     "metadata": {},
     "output_type": "execute_result"
    }
   ],
   "source": [
    "# here we will do some analysis to ensure predictions file looks reasonable\n",
    "(test_predictions_df['class'] < 0).sum()"
   ]
  },
  {
   "cell_type": "code",
   "execution_count": null,
   "metadata": {
    "execution": {
     "iopub.execute_input": "2024-11-21T22:14:15.833970Z",
     "iopub.status.busy": "2024-11-21T22:14:15.833568Z",
     "iopub.status.idle": "2024-11-21T22:14:15.849830Z",
     "shell.execute_reply": "2024-11-21T22:14:15.848335Z",
     "shell.execute_reply.started": "2024-11-21T22:14:15.833933Z"
    },
    "trusted": true
   },
   "outputs": [
    {
     "data": {
      "text/plain": [
       "class\n",
       "1     862\n",
       "9     767\n",
       "18    714\n",
       "14    631\n",
       "6     627\n",
       "11    623\n",
       "19    621\n",
       "17    576\n",
       "5     513\n",
       "16    456\n",
       "13    441\n",
       "15    437\n",
       "10    435\n",
       "0     390\n",
       "7     375\n",
       "12    370\n",
       "8     324\n",
       "3     309\n",
       "4     305\n",
       "2     224\n",
       "Name: count, dtype: int64"
      ]
     },
     "execution_count": 63,
     "metadata": {},
     "output_type": "execute_result"
    }
   ],
   "source": [
    "test_predictions_df['class'].value_counts()"
   ]
  },
  {
   "cell_type": "code",
   "execution_count": null,
   "metadata": {
    "execution": {
     "iopub.execute_input": "2024-11-21T22:15:22.305083Z",
     "iopub.status.busy": "2024-11-21T22:15:22.303952Z",
     "iopub.status.idle": "2024-11-21T22:15:22.312369Z",
     "shell.execute_reply": "2024-11-21T22:15:22.310965Z",
     "shell.execute_reply.started": "2024-11-21T22:15:22.305033Z"
    },
    "trusted": true
   },
   "outputs": [],
   "source": [
    "test_predictions_df['class'] = test_predictions_df['class'].map(class_id_to_name_dict)\n",
    "test_predictions_df['ID'] = test_predictions_df['ID'].apply(lambda v: f'val_{v}.JPEG')"
   ]
  },
  {
   "cell_type": "code",
   "execution_count": null,
   "metadata": {
    "execution": {
     "iopub.execute_input": "2024-11-21T22:15:28.312495Z",
     "iopub.status.busy": "2024-11-21T22:15:28.312035Z",
     "iopub.status.idle": "2024-11-21T22:15:28.324686Z",
     "shell.execute_reply": "2024-11-21T22:15:28.323282Z",
     "shell.execute_reply.started": "2024-11-21T22:15:28.312456Z"
    },
    "trusted": true
   },
   "outputs": [
    {
     "data": {
      "text/html": [
       "<div>\n",
       "<style scoped>\n",
       "    .dataframe tbody tr th:only-of-type {\n",
       "        vertical-align: middle;\n",
       "    }\n",
       "\n",
       "    .dataframe tbody tr th {\n",
       "        vertical-align: top;\n",
       "    }\n",
       "\n",
       "    .dataframe thead th {\n",
       "        text-align: right;\n",
       "    }\n",
       "</style>\n",
       "<table border=\"1\" class=\"dataframe\">\n",
       "  <thead>\n",
       "    <tr style=\"text-align: right;\">\n",
       "      <th></th>\n",
       "      <th>ID</th>\n",
       "      <th>class</th>\n",
       "    </tr>\n",
       "  </thead>\n",
       "  <tbody>\n",
       "    <tr>\n",
       "      <th>0</th>\n",
       "      <td>val_0.JPEG</td>\n",
       "      <td>n03179701</td>\n",
       "    </tr>\n",
       "    <tr>\n",
       "      <th>1</th>\n",
       "      <td>val_1.JPEG</td>\n",
       "      <td>n02395406</td>\n",
       "    </tr>\n",
       "    <tr>\n",
       "      <th>2</th>\n",
       "      <td>val_2.JPEG</td>\n",
       "      <td>n03637318</td>\n",
       "    </tr>\n",
       "    <tr>\n",
       "      <th>3</th>\n",
       "      <td>val_3.JPEG</td>\n",
       "      <td>n03637318</td>\n",
       "    </tr>\n",
       "    <tr>\n",
       "      <th>4</th>\n",
       "      <td>val_4.JPEG</td>\n",
       "      <td>n02504458</td>\n",
       "    </tr>\n",
       "  </tbody>\n",
       "</table>\n",
       "</div>"
      ],
      "text/plain": [
       "           ID      class\n",
       "0  val_0.JPEG  n03179701\n",
       "1  val_1.JPEG  n02395406\n",
       "2  val_2.JPEG  n03637318\n",
       "3  val_3.JPEG  n03637318\n",
       "4  val_4.JPEG  n02504458"
      ]
     },
     "execution_count": 65,
     "metadata": {},
     "output_type": "execute_result"
    }
   ],
   "source": [
    "test_predictions_df.head()"
   ]
  },
  {
   "cell_type": "code",
   "execution_count": null,
   "metadata": {
    "execution": {
     "iopub.execute_input": "2024-11-21T22:16:23.544044Z",
     "iopub.status.busy": "2024-11-21T22:16:23.543426Z",
     "iopub.status.idle": "2024-11-21T22:16:23.572686Z",
     "shell.execute_reply": "2024-11-21T22:16:23.571625Z",
     "shell.execute_reply.started": "2024-11-21T22:16:23.543989Z"
    },
    "trusted": true
   },
   "outputs": [],
   "source": [
    "test_predictions_df.to_csv(f'../working/submission_{model_file_name}.csv', index=False)"
   ]
  }
 ],
 "metadata": {
  "kaggle": {
   "accelerator": "none",
   "dataSources": [
    {
     "databundleVersionId": 10182889,
     "sourceId": 88807,
     "sourceType": "competition"
    }
   ],
   "dockerImageVersionId": 30786,
   "isGpuEnabled": false,
   "isInternetEnabled": true,
   "language": "python",
   "sourceType": "notebook"
  },
  "kernelspec": {
   "display_name": ".venv",
   "language": "python",
   "name": "python3"
  },
  "language_info": {
   "codemirror_mode": {
    "name": "ipython",
    "version": 3
   },
   "file_extension": ".py",
   "mimetype": "text/x-python",
   "name": "python",
   "nbconvert_exporter": "python",
   "pygments_lexer": "ipython3",
   "version": "3.11.1"
  }
 },
 "nbformat": 4,
 "nbformat_minor": 4
}
